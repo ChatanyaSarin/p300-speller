{
 "cells": [
  {
   "cell_type": "code",
   "execution_count": 4,
   "id": "27c04765",
   "metadata": {},
   "outputs": [],
   "source": [
    "import pandas as pd\n",
    "import numpy as np\n",
    "import matplotlib.pyplot as plt\n",
    "import os"
   ]
  },
  {
   "cell_type": "markdown",
   "id": "adbcd30f",
   "metadata": {},
   "source": [
    "# Loading Data"
   ]
  },
  {
   "cell_type": "code",
   "execution_count": 3,
   "id": "68262cbf",
   "metadata": {},
   "outputs": [],
   "source": [
    "from scipy.io import loadmat"
   ]
  },
  {
   "cell_type": "code",
   "execution_count": 6,
   "id": "e7db1de5",
   "metadata": {},
   "outputs": [],
   "source": [
    "DATA_PATH = 'C:/Users/chata/OneDrive/Documents/UChicago/Research/Hatsopolous Motor Control/Lab Application Projects/P300 Speller/Data'"
   ]
  },
  {
   "cell_type": "code",
   "execution_count": 7,
   "id": "8b51df2e",
   "metadata": {},
   "outputs": [
    {
     "data": {
      "text/plain": [
       "{'__header__': b'MATLAB 5.0 MAT-file, Platform: PCWIN64, Created on: Wed Dec 20 20:36:35 2017',\n",
       " '__version__': '1.0',\n",
       " '__globals__': [],\n",
       " 'channelRange': array([[1, 2, 3, 4, 5, 6, 7, 8]], dtype=uint8),\n",
       " 'Fs': array([[250]], dtype=uint8),\n",
       " 'Trials': array([[35]], dtype=uint8),\n",
       " 'stims': array([[2.43164062e-01, 8.98000000e+02, 0.00000000e+00],\n",
       "        [2.43164062e-01, 8.97000000e+02, 0.00000000e+00],\n",
       "        [7.40722656e+00, 8.98000000e+02, 3.90625000e-03],\n",
       "        ...,\n",
       "        [1.43423633e+03, 3.30260000e+04, 0.00000000e+00],\n",
       "        [1.43423633e+03, 3.27790000e+04, 0.00000000e+00],\n",
       "        [1.43435547e+03, 3.27800000e+04, 0.00000000e+00]], shape=(21495, 3)),\n",
       " 'channelNames': array([[array(['FZ'], dtype='<U2'), array(['CZ'], dtype='<U2'),\n",
       "         array(['P3'], dtype='<U2'), array(['PZ'], dtype='<U2'),\n",
       "         array(['P4'], dtype='<U2'), array(['PO7'], dtype='<U3'),\n",
       "         array(['PO8'], dtype='<U3'), array(['OZ'], dtype='<U2')]],\n",
       "       dtype=object),\n",
       " 'sampleTime': array([[0.00000000e+00],\n",
       "        [3.90625000e-03],\n",
       "        [7.81250000e-03],\n",
       "        ...,\n",
       "        [1.43347559e+03],\n",
       "        [1.43347949e+03],\n",
       "        [1.43348340e+03]], shape=(358372, 1)),\n",
       " 'samples': array([[26.95640373, 11.73869324,  6.98503304, ...,  2.66381407,\n",
       "         -3.04957318, -2.63618731],\n",
       "        [29.94702721, 14.98267174, 10.02626705, ...,  5.16736984,\n",
       "          1.30663943,  2.16391516],\n",
       "        [33.09702683, 19.32771683, 13.60309792, ...,  8.05283546,\n",
       "          8.53473663,  7.90571976],\n",
       "        ...,\n",
       "        [ 5.6236558 ,  0.53022534,  1.55959177, ..., -4.96036482,\n",
       "          2.35364461, -8.1143961 ],\n",
       "        [ 4.38928461,  1.46526659,  1.96254373, ..., -4.6057415 ,\n",
       "          1.29674733, -7.18669939],\n",
       "        [ 2.58838463,  0.79275906,  0.29564747, ..., -4.98137999,\n",
       "         -4.04607677, -7.54975986]], shape=(358372, 8)),\n",
       " 'Word': array(['TOKENMIRARJUJUYMANSOCINCOJUEGOQUESO'], dtype='<U35'),\n",
       " 'data': array([[(array([[26.95640373, 11.73869324,  6.98503304, ...,  2.66381407,\n",
       "                 -3.04957318, -2.63618731],\n",
       "                [29.94702721, 14.98267174, 10.02626705, ...,  5.16736984,\n",
       "                  1.30663943,  2.16391516],\n",
       "                [33.09702683, 19.32771683, 13.60309792, ...,  8.05283546,\n",
       "                  8.53473663,  7.90571976],\n",
       "                ...,\n",
       "                [ 5.6236558 ,  0.53022534,  1.55959177, ..., -4.96036482,\n",
       "                  2.35364461, -8.1143961 ],\n",
       "                [ 4.38928461,  1.46526659,  1.96254373, ..., -4.6057415 ,\n",
       "                  1.29674733, -7.18669939],\n",
       "                [ 2.58838463,  0.79275906,  0.29564747, ..., -4.98137999,\n",
       "                 -4.04607677, -7.54975986]], shape=(358372, 8)), array([[0],\n",
       "                [0],\n",
       "                [0],\n",
       "                ...,\n",
       "                [0],\n",
       "                [0],\n",
       "                [0]], shape=(358372, 1), dtype=uint8), array([[0],\n",
       "                [0],\n",
       "                [0],\n",
       "                ...,\n",
       "                [0],\n",
       "                [0],\n",
       "                [0]], shape=(358372, 1), dtype=uint8), array([[  7487,  17511,  27536,  37564,  47590,  57620,  67641,  77667,\n",
       "                  87690,  97715, 107740, 117764, 127790, 137813, 147840, 157867,\n",
       "                 167893, 177915, 187942, 197967, 207995, 218018, 228044, 238068,\n",
       "                 248095, 258119, 268146, 278171, 288194, 298220, 308246, 318273,\n",
       "                 328297, 338325, 348349]], dtype=int32), array([[  7486,     31,     11,      1],\n",
       "                [  7548,     31,      5,      1],\n",
       "                [  7610,     30,      7,      1],\n",
       "                ...,\n",
       "                [355688,     32,      3,      2],\n",
       "                [355750,     32,      7,      1],\n",
       "                [355813,     32,      4,      1]], shape=(4200, 4), dtype=int32))                                             ]],\n",
       "       dtype=[('X', 'O'), ('y', 'O'), ('y_stim', 'O'), ('trial', 'O'), ('flash', 'O')]),\n",
       " 'subject': array([[1]], dtype=uint8)}"
      ]
     },
     "execution_count": 7,
     "metadata": {},
     "output_type": "execute_result"
    }
   ],
   "source": [
    "def load_data(filename):\n",
    "    \"\"\"\n",
    "    Load data from a .mat file.\n",
    "    \"\"\"\n",
    "    data = loadmat(os.path.join(DATA_PATH, filename))\n",
    "    return data\n",
    "\n",
    "load_data(os.listdir(DATA_PATH)[0])  # Load the first file in the directory as an example"
   ]
  },
  {
   "cell_type": "code",
   "execution_count": null,
   "id": "a4998529",
   "metadata": {},
   "outputs": [],
   "source": []
  }
 ],
 "metadata": {
  "kernelspec": {
   "display_name": "p300-speller",
   "language": "python",
   "name": "python3"
  },
  "language_info": {
   "codemirror_mode": {
    "name": "ipython",
    "version": 3
   },
   "file_extension": ".py",
   "mimetype": "text/x-python",
   "name": "python",
   "nbconvert_exporter": "python",
   "pygments_lexer": "ipython3",
   "version": "3.13.5"
  }
 },
 "nbformat": 4,
 "nbformat_minor": 5
}
